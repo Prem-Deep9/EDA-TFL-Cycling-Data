{
 "cells": [
  {
   "cell_type": "markdown",
   "metadata": {},
   "source": [
    "# TfL Cycling Data Analysis (2021–2023)\n",
    "\n",
    "This notebook presents an exploratory analysis of Transport for London (TfL) cycle hire data from 2021 to 2023.\n",
    "Our goal is to extract usage insights and prototype a simple machine learning model to support a client considering entry into the short-term bike rental market. \n"
   ]
  },
  {
   "cell_type": "code",
   "execution_count": 1,
   "metadata": {},
   "outputs": [],
   "source": [
    "# We begin by importing essential Python libraries for data loading, analysis, and visualization.\n",
    "import os\n",
    "import pandas as pd\n",
    "import re\n",
    "import numpy as np\n",
    "import seaborn as sns\n",
    "import matplotlib.pyplot as plt\n",
    "from datetime import datetime"
   ]
  },
  {
   "cell_type": "markdown",
   "metadata": {},
   "source": [
    "## preprocessing the data"
   ]
  },
  {
   "cell_type": "markdown",
   "metadata": {},
   "source": [
    "A total of 142 CSV files were scraped from the [TfL Cycling Dataset](https://cycling.data.tfl.gov.uk/), covering usage stats from 2021 to 2023.  \n",
    "\n",
    "The data comes in two schema formats (old and new), and we load them separately to ensure compatibility.  \n",
    "In this step, we load data from the **old schema** files and concatenate them into a single DataFrame."
   ]
  },
  {
   "cell_type": "code",
   "execution_count": 2,
   "metadata": {},
   "outputs": [
    {
     "name": "stdout",
     "output_type": "stream",
     "text": [
      "89\n",
      "Loaded: ./cycling_data_old_schema\\246JourneyDataExtract30Dec2020-05Jan2021.csv (93002 rows)\n",
      "Loaded: ./cycling_data_old_schema\\247JourneyDataExtract06Jan2021-12Jan2021.csv (92212 rows)\n",
      "Loaded: ./cycling_data_old_schema\\248JourneyDataExtract13Jan2021-19Jan2021.csv (91203 rows)\n",
      "Loaded: ./cycling_data_old_schema\\249JourneyDataExtract20Jan2021-26Jan2021.csv (95317 rows)\n",
      "Loaded: ./cycling_data_old_schema\\250JourneyDataExtract27Jan2021-02Feb2021.csv (91658 rows)\n",
      "Loaded: ./cycling_data_old_schema\\251JourneyDataExtract03Feb2021-09Feb2021.csv (82029 rows)\n",
      "Loaded: ./cycling_data_old_schema\\252JourneyDataExtract10Feb2021-16Feb2021.csv (89405 rows)\n",
      "Loaded: ./cycling_data_old_schema\\253JourneyDataExtract17Feb2021-23Feb2021.csv (153873 rows)\n",
      "Loaded: ./cycling_data_old_schema\\254JourneyDataExtract24Feb2021-02Mar2021.csv (189092 rows)\n",
      "Loaded: ./cycling_data_old_schema\\255JourneyDataExtract03Mar2021-09Mar2021.csv (150317 rows)\n",
      "Loaded: ./cycling_data_old_schema\\256JourneyDataExtract10Mar2021-16Mar2021.csv (127051 rows)\n",
      "Loaded: ./cycling_data_old_schema\\257JourneyDataExtract17Mar2021-23Mar2021.csv (177515 rows)\n",
      "Loaded: ./cycling_data_old_schema\\258JourneyDataExtract24Mar2021-30Mar2021.csv (206894 rows)\n",
      "Loaded: ./cycling_data_old_schema\\259JourneyDataExtract31Mar2021-06Apr2021.csv (242574 rows)\n",
      "Loaded: ./cycling_data_old_schema\\260JourneyDataExtract07Apr2021-13Apr2021.csv (191994 rows)\n",
      "Loaded: ./cycling_data_old_schema\\261JourneyDataExtract14Apr2021-20Apr2021.csv (232661 rows)\n",
      "Loaded: ./cycling_data_old_schema\\262JourneyDataExtract21Apr2021-27Apr2021.csv (225985 rows)\n",
      "Loaded: ./cycling_data_old_schema\\263JourneyDataExtract28Apr2021-04May2021.csv (184910 rows)\n",
      "Loaded: ./cycling_data_old_schema\\264JourneyDataExtract05May2021-11May2021.csv (192972 rows)\n",
      "Loaded: ./cycling_data_old_schema\\265JourneyDataExtract12May2021-18May2021.csv (181493 rows)\n",
      "Loaded: ./cycling_data_old_schema\\266JourneyDataExtract19May2021-25May2021.csv (179008 rows)\n",
      "Loaded: ./cycling_data_old_schema\\267JourneyDataExtract26May2021-01Jun2021.csv (296473 rows)\n",
      "Loaded: ./cycling_data_old_schema\\268JourneyDataExtract02Jun2021-08Jun2021.csv (295098 rows)\n",
      "Loaded: ./cycling_data_old_schema\\269JourneyDataExtract09Jun2021-15Jun2021.csv (321708 rows)\n",
      "Loaded: ./cycling_data_old_schema\\270JourneyDataExtract16Jun2021-22Jun2021.csv (211164 rows)\n",
      "Loaded: ./cycling_data_old_schema\\271JourneyDataExtract23Jun2021-29Jun2021.csv (259812 rows)\n",
      "Loaded: ./cycling_data_old_schema\\272JourneyDataExtract30Jun2021-06Jul2021.csv (245842 rows)\n",
      "Loaded: ./cycling_data_old_schema\\273JourneyDataExtract07Jul2021-13Jul2021.csv (259485 rows)\n",
      "Loaded: ./cycling_data_old_schema\\274JourneyDataExtract14Jul2021-20Jul2021.csv (296356 rows)\n",
      "Loaded: ./cycling_data_old_schema\\275JourneyDataExtract21Jul2021-27Jul2021.csv (260283 rows)\n",
      "Loaded: ./cycling_data_old_schema\\276JourneyDataExtract28Jul2021-03Aug2021.csv (235806 rows)\n",
      "Loaded: ./cycling_data_old_schema\\277JourneyDataExtract04Aug2021-10Aug2021.csv (215769 rows)\n",
      "Loaded: ./cycling_data_old_schema\\278JourneyDataExtract11Aug2021-17Aug2021.csv (266897 rows)\n",
      "Loaded: ./cycling_data_old_schema\\279JourneyDataExtract18Aug2021-24Aug2021.csv (253753 rows)\n",
      "Loaded: ./cycling_data_old_schema\\280JourneyDataExtract25Aug2021-31Aug2021.csv (256796 rows)\n",
      "Loaded: ./cycling_data_old_schema\\281JourneyDataExtract01Sep2021-07Sep2021.csv (286958 rows)\n",
      "Loaded: ./cycling_data_old_schema\\282JourneyDataExtract08Sep2021-14Sep2021.csv (269374 rows)\n",
      "Loaded: ./cycling_data_old_schema\\283JourneyDataExtract15Sep2021-21Sep2021.csv (288226 rows)\n",
      "Loaded: ./cycling_data_old_schema\\284JourneyDataExtract22Sep2021-28Sep2021.csv (290931 rows)\n",
      "Loaded: ./cycling_data_old_schema\\285JourneyDataExtract29Sep2021-05Oct2021.csv (223570 rows)\n",
      "Loaded: ./cycling_data_old_schema\\286JourneyDataExtract06Oct2021-12Oct2021.csv (273845 rows)\n",
      "Loaded: ./cycling_data_old_schema\\287JourneyDataExtract13Oct2021-19Oct2021.csv (253625 rows)\n",
      "Loaded: ./cycling_data_old_schema\\288JourneyDataExtract20Oct2021-26Oct2021.csv (249449 rows)\n",
      "Loaded: ./cycling_data_old_schema\\289JourneyDataExtract27Oct2021-02Nov2021.csv (239760 rows)\n",
      "Loaded: ./cycling_data_old_schema\\290JourneyDataExtract03Nov2021-09Nov2021.csv (228091 rows)\n",
      "Loaded: ./cycling_data_old_schema\\291JourneyDataExtract10Nov2021-16Nov2021.csv (222781 rows)\n",
      "Loaded: ./cycling_data_old_schema\\292JourneyDataExtract17Nov2021-23Nov2021.csv (228815 rows)\n",
      "Loaded: ./cycling_data_old_schema\\293JourneyDataExtract24Nov2021-30Nov2021.csv (190142 rows)\n",
      "Loaded: ./cycling_data_old_schema\\294JourneyDataExtract01Dec2021-07Dec2021.csv (176011 rows)\n",
      "Loaded: ./cycling_data_old_schema\\295JourneyDataExtract08Dec2021-14Dec2021.csv (181546 rows)\n",
      "Loaded: ./cycling_data_old_schema\\296JourneyDataExtract15Dec2021-21Dec2021.csv (158677 rows)\n",
      "Loaded: ./cycling_data_old_schema\\297JourneyDataExtract22Dec2021-28Dec2021.csv (88782 rows)\n",
      "Loaded: ./cycling_data_old_schema\\298JourneyDataExtract29Dec2021-04Jan2022.csv (128938 rows)\n",
      "Loaded: ./cycling_data_old_schema\\299JourneyDataExtract05Jan2022-11Jan2022.csv (134383 rows)\n",
      "Loaded: ./cycling_data_old_schema\\300JourneyDataExtract12Jan2022-18Jan2022.csv (180204 rows)\n",
      "Loaded: ./cycling_data_old_schema\\301JourneyDataExtract19Jan2022-25Jan2022.csv (182437 rows)\n",
      "Loaded: ./cycling_data_old_schema\\302JourneyDataExtract26Jan2022-01Feb2022.csv (203961 rows)\n",
      "Loaded: ./cycling_data_old_schema\\303JourneyDataExtract02Feb2022-08Feb2022.csv (198653 rows)\n",
      "Loaded: ./cycling_data_old_schema\\304JourneyDataExtract09Feb2022-15Feb2022.csv (181350 rows)\n",
      "Loaded: ./cycling_data_old_schema\\305JourneyDataExtract16Feb2022-22Feb2022.csv (154127 rows)\n",
      "Loaded: ./cycling_data_old_schema\\306JourneyDataExtract23Feb2022-01Mar2022.csv (214609 rows)\n",
      "Loaded: ./cycling_data_old_schema\\307JourneyDataExtract02Mar2022-08Mar2022.csv (225094 rows)\n",
      "Loaded: ./cycling_data_old_schema\\308JourneyDataExtract09Mar2022-15Mar2022.csv (220760 rows)\n",
      "Loaded: ./cycling_data_old_schema\\309JourneyDataExtract16Mar2022-22Mar2022.csv (241055 rows)\n",
      "Loaded: ./cycling_data_old_schema\\310JourneyDataExtract23Mar2022-29Mar2022.csv (265063 rows)\n",
      "Loaded: ./cycling_data_old_schema\\311JourneyDataExtract30Mar2022-05Apr2022.csv (188582 rows)\n",
      "Loaded: ./cycling_data_old_schema\\312JourneyDataExtract06Apr2022-12Apr2022.csv (216706 rows)\n",
      "Loaded: ./cycling_data_old_schema\\313JourneyDataExtract13Apr2022-19Apr2022.csv (266625 rows)\n",
      "Loaded: ./cycling_data_old_schema\\314JourneyDataExtract20Apr2022-26Apr2022.csv (261260 rows)\n",
      "Loaded: ./cycling_data_old_schema\\315JourneyDataExtract27Apr2022-03May2022.csv (250157 rows)\n",
      "Loaded: ./cycling_data_old_schema\\316JourneyDataExtract04May2022-10May2022.csv (279647 rows)\n",
      "Loaded: ./cycling_data_old_schema\\317JourneyDataExtract11May2022-17May2022.csv (270609 rows)\n",
      "Loaded: ./cycling_data_old_schema\\318JourneyDataExtract18May2022-24May2022.csv (277405 rows)\n",
      "Loaded: ./cycling_data_old_schema\\319JourneyDataExtract25May2022-31May2022.csv (260270 rows)\n",
      "Loaded: ./cycling_data_old_schema\\320JourneyDataExtract01Jun2022-07Jun2022.csv (264623 rows)\n",
      "Loaded: ./cycling_data_old_schema\\321JourneyDataExtract08Jun2022-14Jun2022.csv (293625 rows)\n",
      "Loaded: ./cycling_data_old_schema\\322JourneyDataExtract15Jun2022-21Jun2022.csv (317274 rows)\n",
      "Loaded: ./cycling_data_old_schema\\323JourneyDataExtract22Jun2022-28Jun2022.csv (310632 rows)\n",
      "Loaded: ./cycling_data_old_schema\\324JourneyDataExtract29Jun2022-05Jul2022.csv (289656 rows)\n",
      "Loaded: ./cycling_data_old_schema\\325JourneyDataExtract06Jul2022-12Jul2022.csv (312144 rows)\n",
      "Loaded: ./cycling_data_old_schema\\326JourneyDataExtract13Jul2022-19Jul2022.csv (299621 rows)\n",
      "Loaded: ./cycling_data_old_schema\\327JourneyDataExtract20Jul2022-26Jul2022.csv (283364 rows)\n",
      "Loaded: ./cycling_data_old_schema\\328JourneyDataExtract27Jul2022-02Aug2022.csv (283640 rows)\n",
      "Loaded: ./cycling_data_old_schema\\329JourneyDataExtract03Aug2022-09Aug2022.csv (295626 rows)\n",
      "Loaded: ./cycling_data_old_schema\\330JourneyDataExtract10Aug2022-16Aug2022.csv (279825 rows)\n",
      "Loaded: ./cycling_data_old_schema\\331JourneyDataExtract17Aug2022-23Aug2022.csv (304858 rows)\n",
      "Loaded: ./cycling_data_old_schema\\332JourneyDataExtract24Aug2022-30Aug2022.csv (246450 rows)\n",
      "Loaded: ./cycling_data_old_schema\\333JourneyDataExtract31Aug2022-06Sep2022.csv (253601 rows)\n",
      "Loaded: ./cycling_data_old_schema\\334JourneyDataExtract07Sep2022-11Sep2022.csv (93453 rows)\n",
      "Concatenated 19727277 rows from 89 files\n"
     ]
    }
   ],
   "source": [
    "# Get full paths for all CSV files in the old schema folder and load them into a single dataframe\n",
    "folder_path1 = \"./cycling_data_old_schema\"\n",
    "cyclic_data_files = [os.path.join(folder_path1, i) for i in os.listdir(folder_path1)]\n",
    "print(len(cyclic_data_files))\n",
    "df_list = []\n",
    "for file in cyclic_data_files:\n",
    "    df1 = pd.read_csv(file, dtype={\n",
    "    \"StartStation Id\": str,\n",
    "    \"EndStation Id\": str})\n",
    "    df_list.append(df1)\n",
    "    print(f\"Loaded: {file} ({len(df1)} rows)\")\n",
    "\n",
    "df1 = pd.concat(df_list, ignore_index=True)\n",
    "print(f\"Concatenated {len(df1)} rows from {len(df_list)} files\")"
   ]
  },
  {
   "cell_type": "markdown",
   "metadata": {},
   "source": [
    "Cleaning and Normalizing the Old Schema\n",
    "\n",
    "To ensure compatibility with the newer schema and avoid schema-specific biases, we:\n",
    "\n",
    "- Drop unreliable station ID columns (`StartStation Id`, `EndStation Id`) which change schema-wise.\n",
    "- Normalize station names for consistency across files.\n",
    "- Rename columns to match the new schema format.\n",
    "\n",
    "We will rely on **station names** for grouping, as they are more consistent across schema versions."
   ]
  },
  {
   "cell_type": "code",
   "execution_count": 3,
   "metadata": {},
   "outputs": [
    {
     "data": {
      "text/html": [
       "<div>\n",
       "<style scoped>\n",
       "    .dataframe tbody tr th:only-of-type {\n",
       "        vertical-align: middle;\n",
       "    }\n",
       "\n",
       "    .dataframe tbody tr th {\n",
       "        vertical-align: top;\n",
       "    }\n",
       "\n",
       "    .dataframe thead th {\n",
       "        text-align: right;\n",
       "    }\n",
       "</style>\n",
       "<table border=\"1\" class=\"dataframe\">\n",
       "  <thead>\n",
       "    <tr style=\"text-align: right;\">\n",
       "      <th></th>\n",
       "      <th>Rental Id</th>\n",
       "      <th>Duration</th>\n",
       "      <th>Bike number</th>\n",
       "      <th>End Date</th>\n",
       "      <th>End station</th>\n",
       "      <th>Start Date</th>\n",
       "      <th>Start station</th>\n",
       "    </tr>\n",
       "  </thead>\n",
       "  <tbody>\n",
       "    <tr>\n",
       "      <th>0</th>\n",
       "      <td>104820582</td>\n",
       "      <td>1620</td>\n",
       "      <td>22</td>\n",
       "      <td>03/01/2021 15:14</td>\n",
       "      <td>brunswick square bloomsbury</td>\n",
       "      <td>03/01/2021 14:47</td>\n",
       "      <td>salmon lane limehouse</td>\n",
       "    </tr>\n",
       "    <tr>\n",
       "      <th>1</th>\n",
       "      <td>104816169</td>\n",
       "      <td>1740</td>\n",
       "      <td>10755</td>\n",
       "      <td>03/01/2021 13:26</td>\n",
       "      <td>salmon lane limehouse</td>\n",
       "      <td>03/01/2021 12:57</td>\n",
       "      <td>new fetter lane holborn</td>\n",
       "    </tr>\n",
       "    <tr>\n",
       "      <th>2</th>\n",
       "      <td>104757113</td>\n",
       "      <td>1620</td>\n",
       "      <td>18908</td>\n",
       "      <td>30/12/2020 15:00</td>\n",
       "      <td>warren street station euston</td>\n",
       "      <td>30/12/2020 14:33</td>\n",
       "      <td>houndsditch aldgate</td>\n",
       "    </tr>\n",
       "    <tr>\n",
       "      <th>3</th>\n",
       "      <td>104749458</td>\n",
       "      <td>780</td>\n",
       "      <td>18499</td>\n",
       "      <td>30/12/2020 09:21</td>\n",
       "      <td>ram street wandsworth</td>\n",
       "      <td>30/12/2020 09:08</td>\n",
       "      <td>simpson street clapham junction</td>\n",
       "    </tr>\n",
       "    <tr>\n",
       "      <th>4</th>\n",
       "      <td>104788389</td>\n",
       "      <td>5400</td>\n",
       "      <td>15668</td>\n",
       "      <td>01/01/2021 16:29</td>\n",
       "      <td>crabtree lane fulham</td>\n",
       "      <td>01/01/2021 14:59</td>\n",
       "      <td>crabtree lane fulham</td>\n",
       "    </tr>\n",
       "  </tbody>\n",
       "</table>\n",
       "</div>"
      ],
      "text/plain": [
       "   Rental Id  Duration  Bike number          End Date  \\\n",
       "0  104820582      1620           22  03/01/2021 15:14   \n",
       "1  104816169      1740        10755  03/01/2021 13:26   \n",
       "2  104757113      1620        18908  30/12/2020 15:00   \n",
       "3  104749458       780        18499  30/12/2020 09:21   \n",
       "4  104788389      5400        15668  01/01/2021 16:29   \n",
       "\n",
       "                    End station        Start Date  \\\n",
       "0   brunswick square bloomsbury  03/01/2021 14:47   \n",
       "1         salmon lane limehouse  03/01/2021 12:57   \n",
       "2  warren street station euston  30/12/2020 14:33   \n",
       "3         ram street wandsworth  30/12/2020 09:08   \n",
       "4          crabtree lane fulham  01/01/2021 14:59   \n",
       "\n",
       "                     Start station  \n",
       "0            salmon lane limehouse  \n",
       "1          new fetter lane holborn  \n",
       "2              houndsditch aldgate  \n",
       "3  simpson street clapham junction  \n",
       "4             crabtree lane fulham  "
      ]
     },
     "execution_count": 3,
     "metadata": {},
     "output_type": "execute_result"
    }
   ],
   "source": [
    "def normalize_name(name):\n",
    "    name = str(name).strip().lower()\n",
    "    name = name.replace(',', '')              # remove commas\n",
    "    name = re.sub(r'\\s+', ' ', name)          # collapse multiple spaces into one\n",
    "    return name\n",
    "\n",
    "df1['StartStation Name'] = df1['StartStation Name'].apply(normalize_name)\n",
    "df1['EndStation Name'] = df1['EndStation Name'].apply(normalize_name)\n",
    "\n",
    "df1 = df1.rename(columns={\n",
    "    'EndStation Name': 'End station',\n",
    "    'StartStation Name': 'Start station',\n",
    "    'Bike Id': 'Bike number'\n",
    "})\n",
    "df1 = df1.drop(columns=['EndStation Id', 'StartStation Id'])\n",
    "df1.head()"
   ]
  },
  {
   "cell_type": "markdown",
   "metadata": {},
   "source": [
    "Deduplication and Null Check\n",
    "\n",
    "We check for:\n",
    "- Duplicate rental records (`Rental Id`)\n",
    "- Missing values in any fields"
   ]
  },
  {
   "cell_type": "code",
   "execution_count": 4,
   "metadata": {},
   "outputs": [
    {
     "name": "stdout",
     "output_type": "stream",
     "text": [
      "Number of duplicate Rental Ids: 0\n"
     ]
    },
    {
     "data": {
      "text/plain": [
       "Rental Id        0\n",
       "Duration         0\n",
       "Bike number      0\n",
       "End Date         0\n",
       "End station      0\n",
       "Start Date       0\n",
       "Start station    0\n",
       "dtype: int64"
      ]
     },
     "execution_count": 4,
     "metadata": {},
     "output_type": "execute_result"
    }
   ],
   "source": [
    "print(\"Number of duplicate Rental Ids:\", df1['Rental Id'].duplicated().sum())\n",
    "df1.isnull().sum()"
   ]
  },
  {
   "cell_type": "markdown",
   "metadata": {},
   "source": [
    "Loading and Cleaning New Schema Files\n",
    "\n",
    "Now we load the second batch of data, which follows a **newer schema**, and apply equivalent cleaning steps:\n",
    "\n",
    "- Normalize column names\n",
    "- Standardize duration format (milliseconds → seconds)\n",
    "- Drop unnecessary columns\n",
    "- Normalize station names for consistency"
   ]
  },
  {
   "cell_type": "code",
   "execution_count": 5,
   "metadata": {},
   "outputs": [
    {
     "name": "stdout",
     "output_type": "stream",
     "text": [
      "53\n",
      "Loaded: ./cycling_data_new_schema\\335JourneyDataExtract12Sep2022-18Sep2022.csv (178494 rows)\n",
      "Loaded: ./cycling_data_new_schema\\336JourneyDataExtract19Sep2022-25Sep2022.csv (186434 rows)\n",
      "Loaded: ./cycling_data_new_schema\\337JourneyDataExtract26Sep2022-02Oct2022.csv (173300 rows)\n",
      "Loaded: ./cycling_data_new_schema\\338JourneyDataExtract03Oct2022-09Oct2022.csv (204517 rows)\n",
      "Loaded: ./cycling_data_new_schema\\339JourneyDataExtract10Oct2022-16Oct2022.csv (194928 rows)\n",
      "Loaded: ./cycling_data_new_schema\\340JourneyDataExtract17Oct2022-23Oct2022.csv (184097 rows)\n",
      "Loaded: ./cycling_data_new_schema\\341JourneyDataExtract24Oct2022-30Oct2022.csv (202605 rows)\n",
      "Loaded: ./cycling_data_new_schema\\342JourneyDataExtract31Oct2022-06Nov2022.csv (156440 rows)\n",
      "Loaded: ./cycling_data_new_schema\\343JourneyDataExtract07Nov2022-13Nov2022.csv (197950 rows)\n",
      "Loaded: ./cycling_data_new_schema\\344JourneyDataExtract14Nov2022-20Nov2022.csv (157910 rows)\n",
      "Loaded: ./cycling_data_new_schema\\345JourneyDataExtract21Nov2022-27Nov2022.csv (158545 rows)\n",
      "Loaded: ./cycling_data_new_schema\\346JourneyDataExtract28Nov2022-04Dec2022.csv (163363 rows)\n",
      "Loaded: ./cycling_data_new_schema\\347JourneyDataExtract05Dec2022-11Dec2022.csv (144228 rows)\n",
      "Loaded: ./cycling_data_new_schema\\348JourneyDataExtract12Dec2022-18Dec2022.csv (97901 rows)\n",
      "Loaded: ./cycling_data_new_schema\\349JourneyDataExtract19Dec2022-25Dec2022.csv (95407 rows)\n",
      "Loaded: ./cycling_data_new_schema\\350JourneyDataExtract26Dec2022-01Jan2023.csv (58958 rows)\n",
      "Loaded: ./cycling_data_new_schema\\351JourneyDataExtract02Jan2023-08Jan2023.csv (98609 rows)\n",
      "Loaded: ./cycling_data_new_schema\\352JourneyDataExtract09Jan2023-15Jan2023.csv (134869 rows)\n",
      "Loaded: ./cycling_data_new_schema\\353JourneyDataExtract16Jan2023-22Jan2023.csv (138811 rows)\n",
      "Loaded: ./cycling_data_new_schema\\354JourneyDataExtract23Jan2023-29Jan2023.csv (139358 rows)\n",
      "Loaded: ./cycling_data_new_schema\\355JourneyDataExtract30Jan2023-05Feb2023.csv (155446 rows)\n",
      "Loaded: ./cycling_data_new_schema\\356JourneyDataExtract06Feb2023-12Feb2023.csv (154506 rows)\n",
      "Loaded: ./cycling_data_new_schema\\357JourneyDataExtract13Feb2023-19Feb2023.csv (156333 rows)\n",
      "Loaded: ./cycling_data_new_schema\\358JourneyDataExtract20Feb2023-26Feb2023.csv (147892 rows)\n",
      "Loaded: ./cycling_data_new_schema\\359JourneyDataExtract27Feb2023-05Mar2023.csv (148038 rows)\n",
      "Loaded: ./cycling_data_new_schema\\360JourneyDataExtract06Mar2023-12Mar2023.csv (118541 rows)\n",
      "Loaded: ./cycling_data_new_schema\\361JourneyDataExtract13Mar2023-19Mar2023.csv (158548 rows)\n",
      "Loaded: ./cycling_data_new_schema\\362JourneyDataExtract20Mar2023-26Mar2023.csv (147469 rows)\n",
      "Loaded: ./cycling_data_new_schema\\363JourneyDataExtract27Mar2023-02Apr2023.csv (138292 rows)\n",
      "Loaded: ./cycling_data_new_schema\\364JourneyDataExtract03Apr2023-09Apr2023.csv (150399 rows)\n",
      "Loaded: ./cycling_data_new_schema\\365JourneyDataExtract10Apr2023-16Apr2023.csv (129528 rows)\n",
      "Loaded: ./cycling_data_new_schema\\366JourneyDataExtract17Apr2023-23Apr2023.csv (163657 rows)\n",
      "Loaded: ./cycling_data_new_schema\\367JourneyDataExtract24Apr2023-30Apr2023.csv (167475 rows)\n",
      "Loaded: ./cycling_data_new_schema\\368JourneyDataExtract01May2023-07May2023.csv (170083 rows)\n",
      "Loaded: ./cycling_data_new_schema\\369JourneyDataExtract08May2023-14May2023.csv (167891 rows)\n",
      "Loaded: ./cycling_data_new_schema\\370JourneyDataExtract15May2023-21May2023.csv (199815 rows)\n",
      "Loaded: ./cycling_data_new_schema\\371JourneyDataExtract22May2023-28May2023.csv (206323 rows)\n",
      "Loaded: ./cycling_data_new_schema\\372JourneyDataExtract29May2023-04Jun2023.csv (183734 rows)\n",
      "Loaded: ./cycling_data_new_schema\\373JourneyDataExtract05Jun2023-11Jun2023.csv (201284 rows)\n",
      "Loaded: ./cycling_data_new_schema\\374JourneyDataExtract12Jun2023-18Jun2023.csv (207960 rows)\n",
      "Loaded: ./cycling_data_new_schema\\375JourneyDataExtract19Jun2023-30Jun2023.csv (367261 rows)\n",
      "Loaded: ./cycling_data_new_schema\\376JourneyDataExtract01Jul2023-14Jul2023.csv (382286 rows)\n",
      "Loaded: ./cycling_data_new_schema\\377JourneyDataExtract15Jul2023-31Jul2023.csv (424466 rows)\n",
      "Loaded: ./cycling_data_new_schema\\378JourneyDataExtract01Aug2023-14Aug2023.csv (341376 rows)\n",
      "Loaded: ./cycling_data_new_schema\\378JourneyDataExtract15Aug2023-31Aug2023.csv (435151 rows)\n",
      "Loaded: ./cycling_data_new_schema\\379JourneyDataExtract01Sep2023-14Sep2023.csv (404062 rows)\n",
      "Loaded: ./cycling_data_new_schema\\380JourneyDataExtract15Sep2023-30Sep2023.csv (441257 rows)\n",
      "Loaded: ./cycling_data_new_schema\\381JourneyDataExtract01Oct2023-14Oct2023.csv (403600 rows)\n",
      "Loaded: ./cycling_data_new_schema\\382JourneyDataExtract15Oct2023-31Oct2023.csv (383804 rows)\n",
      "Loaded: ./cycling_data_new_schema\\383JourneyDataExtract01Nov2023-14Nov2023.csv (301885 rows)\n",
      "Loaded: ./cycling_data_new_schema\\384JourneyDataExtract15Nov2023-30Nov2023.csv (361446 rows)\n",
      "Loaded: ./cycling_data_new_schema\\385JourneyDataExtract01Dec2023-14Dec2023.csv (263515 rows)\n",
      "Loaded: ./cycling_data_new_schema\\386JourneyDataExtract15Dec2023-31Dec2023.csv (209428 rows)\n",
      "Concatenated 11059475 rows from 53 files\n"
     ]
    }
   ],
   "source": [
    "# Get full paths for all CSV files in the new schema folder and load them into a single dataframe\n",
    "folder_path2 = \"./cycling_data_new_schema\"\n",
    "cyclic_data_files = [os.path.join(folder_path2, i) for i in os.listdir(folder_path2)]\n",
    "print(len(cyclic_data_files))\n",
    "df_list = []\n",
    "for file in cyclic_data_files:\n",
    "    df2 = pd.read_csv(file, dtype={\n",
    "    \"Start station number\": str,\n",
    "    \"End station number\": str})\n",
    "    df_list.append(df2)\n",
    "    print(f\"Loaded: {file} ({len(df2)} rows)\")\n",
    "\n",
    "if df_list:\n",
    "    df2 = pd.concat(df_list, ignore_index=True)\n",
    "    print(f\"Concatenated {len(df2)} rows from {len(df_list)} files\")\n",
    "else:\n",
    "    print(\"No files loaded\")"
   ]
  },
  {
   "cell_type": "markdown",
   "metadata": {},
   "source": [
    "Final Cleaning for New Schema Data\n",
    "\n",
    "To ensure consistency with the old schema (`df1`), we:\n",
    "\n",
    "- Convert **duration** from milliseconds to seconds and rename the column.\n",
    "- Drop station ID number columns (since we use normalized names).\n",
    "- Normalize station names (lowercase, trimmed, no commas).\n",
    "- Rename date and rental ID columns to match the old schema.\n",
    "\n",
    "This prepares the new schema data (`df2`) for merging."
   ]
  },
  {
   "cell_type": "code",
   "execution_count": 6,
   "metadata": {},
   "outputs": [
    {
     "data": {
      "text/html": [
       "<div>\n",
       "<style scoped>\n",
       "    .dataframe tbody tr th:only-of-type {\n",
       "        vertical-align: middle;\n",
       "    }\n",
       "\n",
       "    .dataframe tbody tr th {\n",
       "        vertical-align: top;\n",
       "    }\n",
       "\n",
       "    .dataframe thead th {\n",
       "        text-align: right;\n",
       "    }\n",
       "</style>\n",
       "<table border=\"1\" class=\"dataframe\">\n",
       "  <thead>\n",
       "    <tr style=\"text-align: right;\">\n",
       "      <th></th>\n",
       "      <th>Rental Id</th>\n",
       "      <th>Start Date</th>\n",
       "      <th>Start station</th>\n",
       "      <th>End Date</th>\n",
       "      <th>End station</th>\n",
       "      <th>Bike number</th>\n",
       "      <th>Bike model</th>\n",
       "      <th>Duration</th>\n",
       "    </tr>\n",
       "  </thead>\n",
       "  <tbody>\n",
       "    <tr>\n",
       "      <th>0</th>\n",
       "      <td>125230172</td>\n",
       "      <td>2022-09-18 23:59</td>\n",
       "      <td>albert embankment vauxhall</td>\n",
       "      <td>2022-09-19 02:11</td>\n",
       "      <td>danvers street west chelsea</td>\n",
       "      <td>54170</td>\n",
       "      <td>CLASSIC</td>\n",
       "      <td>7934</td>\n",
       "    </tr>\n",
       "    <tr>\n",
       "      <th>1</th>\n",
       "      <td>125230173</td>\n",
       "      <td>2022-09-18 23:59</td>\n",
       "      <td>frith street soho</td>\n",
       "      <td>2022-09-19 00:11</td>\n",
       "      <td>westminster university marylebone</td>\n",
       "      <td>50087</td>\n",
       "      <td>CLASSIC</td>\n",
       "      <td>736</td>\n",
       "    </tr>\n",
       "    <tr>\n",
       "      <th>2</th>\n",
       "      <td>125230174</td>\n",
       "      <td>2022-09-18 23:59</td>\n",
       "      <td>bramham gardens earl's court</td>\n",
       "      <td>2022-09-19 00:14</td>\n",
       "      <td>felsham road putney</td>\n",
       "      <td>54561</td>\n",
       "      <td>CLASSIC</td>\n",
       "      <td>929</td>\n",
       "    </tr>\n",
       "    <tr>\n",
       "      <th>3</th>\n",
       "      <td>125230175</td>\n",
       "      <td>2022-09-18 23:59</td>\n",
       "      <td>strata elephant &amp; castle</td>\n",
       "      <td>2022-09-19 00:23</td>\n",
       "      <td>canada water station rotherhithe</td>\n",
       "      <td>54324</td>\n",
       "      <td>CLASSIC</td>\n",
       "      <td>1411</td>\n",
       "    </tr>\n",
       "    <tr>\n",
       "      <th>4</th>\n",
       "      <td>125230176</td>\n",
       "      <td>2022-09-18 23:59</td>\n",
       "      <td>strata elephant &amp; castle</td>\n",
       "      <td>2022-09-19 00:23</td>\n",
       "      <td>canada water station rotherhithe</td>\n",
       "      <td>22065</td>\n",
       "      <td>CLASSIC</td>\n",
       "      <td>1400</td>\n",
       "    </tr>\n",
       "  </tbody>\n",
       "</table>\n",
       "</div>"
      ],
      "text/plain": [
       "   Rental Id        Start Date                 Start station  \\\n",
       "0  125230172  2022-09-18 23:59    albert embankment vauxhall   \n",
       "1  125230173  2022-09-18 23:59             frith street soho   \n",
       "2  125230174  2022-09-18 23:59  bramham gardens earl's court   \n",
       "3  125230175  2022-09-18 23:59      strata elephant & castle   \n",
       "4  125230176  2022-09-18 23:59      strata elephant & castle   \n",
       "\n",
       "           End Date                        End station  Bike number  \\\n",
       "0  2022-09-19 02:11        danvers street west chelsea        54170   \n",
       "1  2022-09-19 00:11  westminster university marylebone        50087   \n",
       "2  2022-09-19 00:14                felsham road putney        54561   \n",
       "3  2022-09-19 00:23   canada water station rotherhithe        54324   \n",
       "4  2022-09-19 00:23   canada water station rotherhithe        22065   \n",
       "\n",
       "  Bike model  Duration  \n",
       "0    CLASSIC      7934  \n",
       "1    CLASSIC       736  \n",
       "2    CLASSIC       929  \n",
       "3    CLASSIC      1411  \n",
       "4    CLASSIC      1400  "
      ]
     },
     "execution_count": 6,
     "metadata": {},
     "output_type": "execute_result"
    }
   ],
   "source": [
    "if 'Total duration' in df2.columns:\n",
    "    df2 = df2.drop(columns=['Total duration'])\n",
    "if 'Total duration (ms)' in df2.columns:\n",
    "    df2 = df2.rename(columns={'Total duration (ms)': 'Duration'})\n",
    "    df2['Duration'] = (df2['Duration'] / 1000).astype(int)\n",
    "\n",
    "df2.drop(columns=['Start station number', 'End station number'], inplace=True)\n",
    "\n",
    "df2['Start station'] = df2['Start station'].apply(normalize_name)\n",
    "df2['End station'] = df2['End station'].apply(normalize_name)\n",
    "\n",
    "# Rename columns for df2\n",
    "df2 = df2.rename(columns={\n",
    "    'Number': 'Rental Id',\n",
    "    'Start date': 'Start Date',\n",
    "    'End date': 'End Date'\n",
    "})\n",
    "df2.head()"
   ]
  },
  {
   "cell_type": "markdown",
   "metadata": {},
   "source": [
    "Duplicate Check & Missing Values\n",
    "\n",
    "Before merging both datasets, we inspect `df2` for duplicate Rental IDs and null values."
   ]
  },
  {
   "cell_type": "code",
   "execution_count": 7,
   "metadata": {},
   "outputs": [
    {
     "name": "stdout",
     "output_type": "stream",
     "text": [
      "Number of duplicate Rental Ids: 0\n"
     ]
    },
    {
     "data": {
      "text/plain": [
       "Rental Id        0\n",
       "Start Date       0\n",
       "Start station    0\n",
       "End Date         0\n",
       "End station      0\n",
       "Bike number      0\n",
       "Bike model       0\n",
       "Duration         0\n",
       "dtype: int64"
      ]
     },
     "execution_count": 7,
     "metadata": {},
     "output_type": "execute_result"
    }
   ],
   "source": [
    "print(\"Number of duplicate Rental Ids:\", df2['Rental Id'].duplicated().sum())\n",
    "df2.isnull().sum()"
   ]
  },
  {
   "cell_type": "markdown",
   "metadata": {},
   "source": [
    "Combine Old & New Schema DataFrames\n",
    "\n",
    "We now concatenate the cleaned `df1` and `df2` DataFrames into a single unified dataset, `df`, ready for exploratory data analysis."
   ]
  },
  {
   "cell_type": "code",
   "execution_count": 8,
   "metadata": {},
   "outputs": [
    {
     "data": {
      "text/html": [
       "<div>\n",
       "<style scoped>\n",
       "    .dataframe tbody tr th:only-of-type {\n",
       "        vertical-align: middle;\n",
       "    }\n",
       "\n",
       "    .dataframe tbody tr th {\n",
       "        vertical-align: top;\n",
       "    }\n",
       "\n",
       "    .dataframe thead th {\n",
       "        text-align: right;\n",
       "    }\n",
       "</style>\n",
       "<table border=\"1\" class=\"dataframe\">\n",
       "  <thead>\n",
       "    <tr style=\"text-align: right;\">\n",
       "      <th></th>\n",
       "      <th>Rental Id</th>\n",
       "      <th>Duration</th>\n",
       "      <th>Bike number</th>\n",
       "      <th>End Date</th>\n",
       "      <th>End station</th>\n",
       "      <th>Start Date</th>\n",
       "      <th>Start station</th>\n",
       "      <th>Bike model</th>\n",
       "    </tr>\n",
       "  </thead>\n",
       "  <tbody>\n",
       "    <tr>\n",
       "      <th>0</th>\n",
       "      <td>104820582</td>\n",
       "      <td>1620</td>\n",
       "      <td>22</td>\n",
       "      <td>03/01/2021 15:14</td>\n",
       "      <td>brunswick square bloomsbury</td>\n",
       "      <td>03/01/2021 14:47</td>\n",
       "      <td>salmon lane limehouse</td>\n",
       "      <td>NaN</td>\n",
       "    </tr>\n",
       "    <tr>\n",
       "      <th>1</th>\n",
       "      <td>104816169</td>\n",
       "      <td>1740</td>\n",
       "      <td>10755</td>\n",
       "      <td>03/01/2021 13:26</td>\n",
       "      <td>salmon lane limehouse</td>\n",
       "      <td>03/01/2021 12:57</td>\n",
       "      <td>new fetter lane holborn</td>\n",
       "      <td>NaN</td>\n",
       "    </tr>\n",
       "    <tr>\n",
       "      <th>2</th>\n",
       "      <td>104757113</td>\n",
       "      <td>1620</td>\n",
       "      <td>18908</td>\n",
       "      <td>30/12/2020 15:00</td>\n",
       "      <td>warren street station euston</td>\n",
       "      <td>30/12/2020 14:33</td>\n",
       "      <td>houndsditch aldgate</td>\n",
       "      <td>NaN</td>\n",
       "    </tr>\n",
       "    <tr>\n",
       "      <th>3</th>\n",
       "      <td>104749458</td>\n",
       "      <td>780</td>\n",
       "      <td>18499</td>\n",
       "      <td>30/12/2020 09:21</td>\n",
       "      <td>ram street wandsworth</td>\n",
       "      <td>30/12/2020 09:08</td>\n",
       "      <td>simpson street clapham junction</td>\n",
       "      <td>NaN</td>\n",
       "    </tr>\n",
       "    <tr>\n",
       "      <th>4</th>\n",
       "      <td>104788389</td>\n",
       "      <td>5400</td>\n",
       "      <td>15668</td>\n",
       "      <td>01/01/2021 16:29</td>\n",
       "      <td>crabtree lane fulham</td>\n",
       "      <td>01/01/2021 14:59</td>\n",
       "      <td>crabtree lane fulham</td>\n",
       "      <td>NaN</td>\n",
       "    </tr>\n",
       "  </tbody>\n",
       "</table>\n",
       "</div>"
      ],
      "text/plain": [
       "   Rental Id  Duration  Bike number          End Date  \\\n",
       "0  104820582      1620           22  03/01/2021 15:14   \n",
       "1  104816169      1740        10755  03/01/2021 13:26   \n",
       "2  104757113      1620        18908  30/12/2020 15:00   \n",
       "3  104749458       780        18499  30/12/2020 09:21   \n",
       "4  104788389      5400        15668  01/01/2021 16:29   \n",
       "\n",
       "                    End station        Start Date  \\\n",
       "0   brunswick square bloomsbury  03/01/2021 14:47   \n",
       "1         salmon lane limehouse  03/01/2021 12:57   \n",
       "2  warren street station euston  30/12/2020 14:33   \n",
       "3         ram street wandsworth  30/12/2020 09:08   \n",
       "4          crabtree lane fulham  01/01/2021 14:59   \n",
       "\n",
       "                     Start station Bike model  \n",
       "0            salmon lane limehouse        NaN  \n",
       "1          new fetter lane holborn        NaN  \n",
       "2              houndsditch aldgate        NaN  \n",
       "3  simpson street clapham junction        NaN  \n",
       "4             crabtree lane fulham        NaN  "
      ]
     },
     "execution_count": 8,
     "metadata": {},
     "output_type": "execute_result"
    }
   ],
   "source": [
    "df = pd.concat([df1, df2], ignore_index=True)\n",
    "len(df)\n",
    "df.head()"
   ]
  },
  {
   "cell_type": "markdown",
   "metadata": {},
   "source": [
    "## Exploratory Data Analysis"
   ]
  },
  {
   "cell_type": "markdown",
   "metadata": {},
   "source": [
    "### Short Trips & False Starts\n",
    "\n",
    "As a first step in our exploratory analysis, we examine **very short trips** — those under 120 seconds.  \n",
    "These can be indicative of:\n",
    "\n",
    "- **False starts** (user unlocks bike, but doesn't proceed)\n",
    "- **Usability issues** (faulty bike or docking problems)\n",
    "- **Customer dissatisfaction** (confusing station layout or UX problems)\n",
    "\n",
    "We also identify a subset where the **start and end stations are the same**, which may reflect abandonment behavior or unclear instructions.\n",
    "\n",
    "These trips are excluded from further analysis to ensure the quality and integrity of insights."
   ]
  },
  {
   "cell_type": "code",
   "execution_count": 9,
   "metadata": {},
   "outputs": [
    {
     "name": "stdout",
     "output_type": "stream",
     "text": [
      "Total trips: 30786752\n",
      "Trips ≤ 120 sec: 499895 (1.62%)\n",
      "Trips ≤ 120 sec and same start/end station: 185511 (0.60%)\n"
     ]
    }
   ],
   "source": [
    "# Total number of trips\n",
    "total_trips = len(df)\n",
    "\n",
    "# Trips with duration <= 120 seconds\n",
    "short_trips = df[df['Duration'] <= 120]\n",
    "num_short_trips = len(short_trips)\n",
    "pct_short_trips = (num_short_trips / total_trips) * 100\n",
    "\n",
    "# Short trips where start == end station\n",
    "false_start_trips = short_trips[short_trips['Start station'] == short_trips['End station']]\n",
    "num_false_start_trips = len(false_start_trips)\n",
    "pct_false_start_trips = (num_false_start_trips / total_trips) * 100\n",
    "\n",
    "# Output\n",
    "print(f\"Total trips: {total_trips}\")\n",
    "print(f\"Trips ≤ 120 sec: {num_short_trips} ({pct_short_trips:.2f}%)\")\n",
    "print(f\"Trips ≤ 120 sec and same start/end station: {num_false_start_trips} ({pct_false_start_trips:.2f}%)\")"
   ]
  },
  {
   "cell_type": "markdown",
   "metadata": {},
   "source": [
    "Interpretation & Recommendation\n",
    "\n",
    "- Only **1.62%** of total trips were under 2 minutes.\n",
    "- Of these, a smaller subset (**0.60%**) had identical start and end stations — likely false starts or cancellations.\n",
    "\n",
    "While rare, these trips are critical signals of **user friction** and should be monitored:\n",
    "- Consider **removing unlock fees** or adding a **grace period** for trips under 2 minutes.\n",
    "- Analyze station-level patterns to identify **problematic stations or bikes**.\n",
    "- These low rates also indicate **minimal misuse**, which is a positive signal for operational trust.\n",
    "\n",
    "---\n",
    "\n",
    "We will now **exclude these trips** to maintain the quality of the core usage analysis."
   ]
  },
  {
   "cell_type": "code",
   "execution_count": 10,
   "metadata": {},
   "outputs": [
    {
     "name": "stdout",
     "output_type": "stream",
     "text": [
      "Remaining trips after filtering: 30286857\n"
     ]
    }
   ],
   "source": [
    "# Filter out trips with Duration ≤ 120 seconds\n",
    "df = df[df['Duration'] > 120].copy()\n",
    "\n",
    "# Confirm removal\n",
    "print(f\"Remaining trips after filtering: {len(df)}\")"
   ]
  },
  {
   "cell_type": "markdown",
   "metadata": {},
   "source": [
    "### Outlier & Long Duration Trip Analysis\n",
    "\n",
    "While most cycle hires are short and practical, a subset of trips has **abnormally high durations**.  \n",
    "These may indicate:\n",
    "\n",
    "- Forgotten or failed docking\n",
    "- Software or return system errors\n",
    "- Bike theft or improper use\n",
    "\n",
    "We use **IQR (Interquartile Range)** to identify statistical outliers and highlight extremely long trips (> 12 hours) which violate expected behavior for a short-term rental service.\n"
   ]
  },
  {
   "cell_type": "code",
   "execution_count": 11,
   "metadata": {},
   "outputs": [
    {
     "name": "stdout",
     "output_type": "stream",
     "text": [
      "Upper Bound: 41.95 min\n",
      "High-duration outliers: 1985471\n",
      "Percentage of total: 6.56%\n"
     ]
    }
   ],
   "source": [
    "# Calculate IQR-based upper bound\n",
    "df['Duration_min'] = df['Duration'] / 60\n",
    "Q1 = df['Duration_min'].quantile(0.25)\n",
    "Q3 = df['Duration_min'].quantile(0.75)\n",
    "IQR = Q3 - Q1\n",
    "upper_bound = Q3 + 1.5 * IQR\n",
    "\n",
    "# Count high-duration outliers\n",
    "high_outliers = df[df['Duration_min'] > upper_bound]\n",
    "num_high_outliers = len(high_outliers)\n",
    "total_trips = len(df)\n",
    "pct_high_outliers = (num_high_outliers / total_trips) * 100\n",
    "\n",
    "print(f\"Upper Bound: {upper_bound:.2f} min\")\n",
    "print(f\"High-duration outliers: {num_high_outliers}\")\n",
    "print(f\"Percentage of total: {pct_high_outliers:.2f}%\")"
   ]
  },
  {
   "cell_type": "markdown",
   "metadata": {},
   "source": [
    "Observations\n",
    "\n",
    "- Approximately **6.5%** of trips exceed `42` minutes.\n",
    "- This represents trips far beyond the normal usage pattern and affects **system availability** for genuine users.\n",
    "\n",
    "**Business Implication:**  \n",
    "To ensure fairness and maximize usage, long trips should be disincentivized or monitored through:\n",
    "\n",
    "- Time-based pricing tiers\n",
    "- Penalties for misuse\n",
    "- Real-time tracking of idle/stuck bikes\n",
    "\n",
    "---\n",
    "\n",
    "Extremely Long Trips (> 12 hours)\n",
    "\n",
    "These are very rare but serious from an operational standpoint.\n",
    "They may indicate:\n",
    "- Forgotten returns\n",
    "- Docking station errors\n",
    "- Stolen or abandoned bikes"
   ]
  },
  {
   "cell_type": "code",
   "execution_count": 12,
   "metadata": {},
   "outputs": [
    {
     "name": "stdout",
     "output_type": "stream",
     "text": [
      "Trips > 12 hours: 32970 (0.11%) of total trips\n"
     ]
    }
   ],
   "source": [
    "num_long_trips = (df['Duration_min'] > 720).sum()\n",
    "total_trips = len(df)\n",
    "pct_long_trips = (num_long_trips / total_trips) * 100\n",
    "\n",
    "print(f\"Trips > 12 hours: {num_long_trips} ({pct_long_trips:.2f}%) of total trips\")"
   ]
  },
  {
   "cell_type": "markdown",
   "metadata": {},
   "source": [
    "### Trip Duration Insights\n",
    "\n",
    "Now we summarize the core distribution of **trip durations** in minutes, helping us understand typical usage patterns and outliers."
   ]
  },
  {
   "cell_type": "code",
   "execution_count": 13,
   "metadata": {},
   "outputs": [
    {
     "name": "stdout",
     "output_type": "stream",
     "text": [
      "\n",
      "Fastest completed trip: 2.02 min\n",
      "Longest ride — could be sightseeing, accidental non-return, or outlier: 187750.63 min\n",
      "Average trip duration: 22.93 min\n",
      "Typical trip: 14.00 min\n",
      "\n"
     ]
    }
   ],
   "source": [
    "desc_stats = df['Duration_min'].describe()\n",
    "skew = df['Duration_min'].skew()\n",
    "\n",
    "print(f\"\"\"\n",
    "Fastest completed trip: {desc_stats['min']:.2f} min\n",
    "Longest ride — could be sightseeing, accidental non-return, or outlier: {desc_stats['max']:.2f} min\n",
    "Average trip duration: {desc_stats['mean']:.2f} min\n",
    "Typical trip: {desc_stats['50%']:.2f} min\n",
    "\"\"\")\n"
   ]
  },
  {
   "cell_type": "markdown",
   "metadata": {},
   "source": [
    "Quantiles help us understand how trip durations vary across the population — from short inner-city commutes to longer leisure rides."
   ]
  },
  {
   "cell_type": "code",
   "execution_count": 14,
   "metadata": {},
   "outputs": [
    {
     "name": "stdout",
     "output_type": "stream",
     "text": [
      "25% Quantile: 8.70 min → 25% of rides are shorter than this — likely short-trip users.\n",
      "50% Quantile (Median): 14.00 min → Half of all rides are shorter than this.\n",
      "75% Quantile: 22.00 min → Upper bound of typical trip durations.\n",
      "95% Quantile: 48.87 min → Longest 5% — often leisure, tourist, or extended use.\n"
     ]
    }
   ],
   "source": [
    "# Compute quantiles\n",
    "quantiles = df['Duration_min'].quantile([0.25, 0.5, 0.75, 0.95, 0.99])\n",
    "\n",
    "# Print each with insight\n",
    "print(f\"25% Quantile: {quantiles[0.25]:.2f} min → 25% of rides are shorter than this — likely short-trip users.\")\n",
    "print(f\"50% Quantile (Median): {quantiles[0.50]:.2f} min → Half of all rides are shorter than this.\")\n",
    "print(f\"75% Quantile: {quantiles[0.75]:.2f} min → Upper bound of typical trip durations.\")\n",
    "print(f\"95% Quantile: {quantiles[0.95]:.2f} min → Longest 5% — often leisure, tourist, or extended use.\")"
   ]
  },
  {
   "cell_type": "markdown",
   "metadata": {},
   "source": [
    "### Temporal Usage Trends\n",
    "\n",
    "We now explore when people ride most frequently — by **hour of day** and **day of week**.\n",
    "\n",
    "These insights help the business:\n",
    "\n",
    "- Understand peak demand windows\n",
    "- Schedule rebalancing and maintenance\n",
    "- Target marketing or pricing strategies"
   ]
  },
  {
   "cell_type": "code",
   "execution_count": 15,
   "metadata": {},
   "outputs": [],
   "source": [
    "def parse_date_simple(date_str):\n",
    "    try:\n",
    "        # First try: DD/MM/YYYY HH:MM\n",
    "        return datetime.strptime(date_str, \"%d/%m/%Y %H:%M\")\n",
    "    except (ValueError, TypeError):\n",
    "        try:\n",
    "            # Fallback: YYYY-MM-DD HH:MM\n",
    "            return datetime.strptime(date_str, \"%Y-%m-%d %H:%M\")\n",
    "        except (ValueError, TypeError):\n",
    "            return date_str  # return original if both fail\n",
    "\n",
    "# Apply to your Start Date column\n",
    "df['Start Date'] = df['Start Date'].apply(parse_date_simple)\n",
    "\n",
    "\n",
    "# Extract hour of day and weekday name\n",
    "df['hour'] = df['Start Date'].dt.hour\n",
    "df['weekday'] = df['Start Date'].dt.day_name()\n",
    "\n",
    "# Reorder weekdays so they show up properly in heatmap\n",
    "weekday_order = ['Monday', 'Tuesday', 'Wednesday', 'Thursday', 'Friday', 'Saturday', 'Sunday']\n",
    "df['weekday'] = pd.Categorical(df['weekday'], categories=weekday_order, ordered=True)\n",
    "\n",
    "# Create pivot table: number of trips per (weekday, hour) combination\n",
    "heatmap_data = df.pivot_table(\n",
    "    index='weekday',\n",
    "    columns='hour',\n",
    "    values='Rental Id',\n",
    "    aggfunc='count',\n",
    "    fill_value=0,\n",
    "    observed=False\n",
    ")"
   ]
  },
  {
   "cell_type": "markdown",
   "metadata": {},
   "source": [
    "Ride Starts by Day and Hour\n",
    "\n",
    "The following heatmap reveals **ride start density** across days and hours — an operationally valuable view into:\n",
    "\n",
    "- Commuting peaks (weekday mornings/evenings)\n",
    "- Leisure surges (weekend afternoons)"
   ]
  },
  {
   "cell_type": "code",
   "execution_count": 16,
   "metadata": {},
   "outputs": [
    {
     "data": {
      "image/png": "[encoded data removed]",
      "text/plain": [
       "<Figure size 1400x600 with 2 Axes>"
      ]
     },
     "metadata": {},
     "output_type": "display_data"
    }
   ],
   "source": [
    "# Plot the heatmap\n",
    "plt.figure(figsize=(14, 6))\n",
    "sns.heatmap(heatmap_data, cmap=\"YlGnBu\", linewidths=0.3, linecolor='gray')\n",
    "plt.title(\"Ride Start Heatmap by Day of Week and Hour of Day\")\n",
    "plt.xlabel(\"Hour of Day\")\n",
    "plt.ylabel(\"Day of Week\")\n",
    "plt.tight_layout()\n",
    "plt.show()"
   ]
  },
  {
   "cell_type": "markdown",
   "metadata": {},
   "source": [
    "Insights from the Heatmap\n",
    "\n",
    "- **Weekday mornings (7–9am)** and **evenings (5–7pm)** show commuting peaks.\n",
    "- **Weekend afternoons (10am–6pm)** show high leisure activity.\n",
    "- Usage patterns differ by user intent — commuting vs. recreation — which may inform:\n",
    "  - Dynamic pricing models\n",
    "  - Strategic bike/station placement\n",
    "  - Operational rebalancing schedules\n",
    "\n",
    "Why This Matters: Forecasting & Operations\n",
    "Understanding temporal demand patterns helps the business in several ways:\n",
    "\n",
    "Demand Forecasting: Historical hourly and daily usage trends can be used to train time-series or regression models to predict future demand — especially useful for high-traffic stations.\n",
    "\n",
    "Rebalancing Strategy: Knowing peak times helps optimize bike redistribution schedules, ensuring stations are neither empty nor overfull.\n",
    "\n",
    "Maintenance & Staffing: Predictable demand cycles can guide staff deployment for repairs, returns, or customer support.\n",
    "\n",
    "Dynamic Pricing: Demand-aware pricing can be introduced to encourage off-peak usage or premium pricing in high-demand periods."
   ]
  },
  {
   "cell_type": "markdown",
   "metadata": {},
   "source": [
    "### Station-Level Analysis — Top Start & End Stations\n",
    "\n",
    "Understanding which stations see the most activity helps with:\n",
    "\n",
    "- Infrastructure prioritization (expansion, maintenance)\n",
    "- Local demand targeting\n",
    "- Operational support and balancing needs"
   ]
  },
  {
   "cell_type": "code",
   "execution_count": 17,
   "metadata": {},
   "outputs": [
    {
     "name": "stdout",
     "output_type": "stream",
     "text": [
      "Top 10 Start Stations:\n",
      "Start station\n",
      "hyde park corner hyde park            230998\n",
      "albert gate hyde park                 139857\n",
      "waterloo station 3 waterloo           137406\n",
      "black lion gate kensington gardens    132278\n",
      "hop exchange the borough              129490\n",
      "wormwood street liverpool street      128771\n",
      "wellington arch hyde park             127419\n",
      "waterloo station 1 waterloo           124565\n",
      "duke street hill london bridge        123562\n",
      "westminster pier westminster          119355\n",
      "Name: count, dtype: int64\n",
      "\n",
      "Top 10 End Stations:\n",
      "End station\n",
      "hyde park corner hyde park            229863\n",
      "hop exchange the borough              172436\n",
      "waterloo station 3 waterloo           141405\n",
      "albert gate hyde park                 139425\n",
      "black lion gate kensington gardens    132437\n",
      "brushfield street liverpool street    131594\n",
      "duke street hill london bridge        130813\n",
      "wormwood street liverpool street      130287\n",
      "wellington arch hyde park             127340\n",
      "westminster pier westminster          124326\n",
      "Name: count, dtype: int64\n"
     ]
    }
   ],
   "source": [
    "# Top 10 Start Stations\n",
    "top_start_stations = df['Start station'].value_counts().head(10)\n",
    "print(\"Top 10 Start Stations:\")\n",
    "print(top_start_stations)\n",
    "\n",
    "# Top 10 End Stations\n",
    "top_end_stations = df['End station'].value_counts().head(10)\n",
    "print(\"\\nTop 10 End Stations:\")\n",
    "print(top_end_stations)\n"
   ]
  },
  {
   "cell_type": "markdown",
   "metadata": {},
   "source": [
    "Identifying Station Imbalance — Sources vs Sinks\n",
    "\n",
    "We now identify **net imbalances** between ride starts and ends at each station.\n",
    "\n",
    "- **Source-heavy stations** → More departures than arrivals  \n",
    "  → Bikes may **drain quickly** if not replenished\n",
    "\n",
    "- **Sink-heavy stations** → More arrivals than departures  \n",
    "  → Bikes may **pile up**, requiring collection or redistributi"
   ]
  },
  {
   "cell_type": "code",
   "execution_count": 18,
   "metadata": {},
   "outputs": [],
   "source": [
    "# Count of rides starting from each station\n",
    "starts = df['Start station'].value_counts().rename('starts')\n",
    "\n",
    "# Count of rides ending at each station\n",
    "ends = df['End station'].value_counts().rename('ends')\n",
    "\n",
    "# Merge both into a single DataFrame\n",
    "station_flow = pd.concat([starts, ends], axis=1).fillna(0)\n",
    "\n",
    "# Calculate net flow and ratio\n",
    "station_flow['net_flow'] = station_flow['ends'] - station_flow['starts']\n",
    "station_flow['end_start_ratio'] = station_flow['ends'] / station_flow['starts'].replace(0, 1)"
   ]
  },
  {
   "cell_type": "code",
   "execution_count": 19,
   "metadata": {},
   "outputs": [
    {
     "name": "stdout",
     "output_type": "stream",
     "text": [
      "Top 10 Sink Stations (more ends than starts):\n",
      "                                    net_flow  end_start_ratio\n",
      "hop exchange the borough             42946.0         1.331655\n",
      "st. james's square st. james's       31064.0         1.348013\n",
      "queen street 1 bank                  25726.0         1.374960\n",
      "brushfield street liverpool street   19558.0         1.174569\n",
      "whitehall place strand               18126.0         1.204594\n",
      "holborn circus holborn               15764.0         1.257099\n",
      "soho square soho                     14411.0         1.145648\n",
      "william iv street strand             10881.0         1.168810\n",
      "st. bride street holborn             10873.0         1.327609\n",
      "pall mall east west end               9662.0         1.164038\n",
      "Top 10 Source Stations (more starts than ends):\n",
      "                                          net_flow  end_start_ratio\n",
      "waterloo station 2 waterloo               -23488.0         0.708024\n",
      "lancaster gate bayswater                  -14233.0         0.729452\n",
      "cloudesley road angel                     -12373.0         0.585661\n",
      "boston place marylebone                   -11995.0         0.786551\n",
      "knightsbridge hyde park                   -10378.0         0.696141\n",
      "macclesfield rd st lukes                   -9662.0         0.820792\n",
      "eagle wharf road hoxton                    -9364.0         0.874848\n",
      "bayswater road hyde park                   -9272.0         0.900776\n",
      "wenlock road hoxton                        -9182.0         0.808617\n",
      "st. john's wood church the regent's park   -8443.0         0.754250\n"
     ]
    }
   ],
   "source": [
    "top_sinks = station_flow.sort_values('net_flow', ascending=False).head(10)\n",
    "print(\"Top 10 Sink Stations (more ends than starts):\")\n",
    "print(top_sinks[['net_flow', 'end_start_ratio']])\n",
    "\n",
    "top_sources = station_flow.sort_values('net_flow').head(10)\n",
    "print(\"Top 10 Source Stations (more starts than ends):\")\n",
    "print(top_sources[['net_flow', 'end_start_ratio']])"
   ]
  },
  {
   "cell_type": "markdown",
   "metadata": {},
   "source": [
    "Operational Insights\n",
    "\n",
    "- Stations with high **positive net flow** (sinks) may **overflow with bikes** during peak periods and need regular redistribution.\n",
    "- Stations with high **negative net flow** (sources) can **run out of bikes**, frustrating customers during high-demand periods.\n",
    "- These insights can guide:\n",
    "  - **Strategic station placement**\n",
    "  - **Bike redistribution planning**\n",
    "  - **Demand forecasting models** (predict station-level inventory needs)\n",
    "  - **Incentive programs** to encourage returns to underused stations\n"
   ]
  },
  {
   "cell_type": "markdown",
   "metadata": {},
   "source": [
    "What More Could Be Explored from the Data\n",
    "\n",
    "- **Temporal Trends**: Analyzing usage trends by day, week, or season to uncover growth patterns and seasonality.\n",
    "- **Model-Level Analysis**: Comparing trip durations and volumes by bike model to inform fleet composition strategy.\n",
    "- **Route-Level Behavior**: Investigating frequent station pairs and self-loop trips to identify high-traffic corridors or user confusion zones.\n"
   ]
  },
  {
   "cell_type": "markdown",
   "metadata": {},
   "source": [
    "## Data Science Use Cases\n",
    "\n",
    "Here are several data-driven opportunities that align with the TfL cycling data and the client’s operational and strategic goals:\n",
    "\n",
    "---\n",
    "\n",
    "### 1. Demand Forecasting (Time Series Modeling)\n",
    "\n",
    "**Goal**: Predict future demand for bikes at each station by hour/day.\n",
    "\n",
    "**Value**: Helps proactively manage bike distribution, staffing, and inventory availability.\n",
    "\n",
    "**Approach**:\n",
    "- Time-series models (ARIMA) or ML regressors\n",
    "- Features: date, time, day-of-week, historical usage\n",
    "\n",
    "---\n",
    "\n",
    "### 2. Trip Duration Prediction\n",
    "\n",
    "**Goal**: Estimate how long a user will ride based on start time, station pair, and bike model.\n",
    "\n",
    "**Value**: Improves customer expectations, supports dynamic pricing, and helps estimate bike availability timelines.\n",
    "\n",
    "**Approach**:\n",
    "- Supervised regression (Linear Regression, XGBoost)\n",
    "- Features: hour, day, start/end stations, bike model\n",
    "\n",
    "---\n",
    "\n",
    "### 3. Route & Usage Pattern Clustering\n",
    "\n",
    "**Goal**: Discover common usage patterns such as commuting, leisure, or anomalous routes.\n",
    "\n",
    "**Value**: Supports marketing segmentation, route recommendations, and strategic planning.\n",
    "\n",
    "**Approach**:\n",
    "- Unsupervised learning (K-Means, DBSCAN)\n",
    "- Features: start/end stations, duration, time of day\n",
    "\n",
    "---\n",
    "\n",
    "### 4. Bike Availability Prediction\n",
    "\n",
    "**Goal**: Predict when a station is likely to **run out of bikes** or become **completely full**.\n",
    "\n",
    "**Value**: Enables proactive rebalancing and avoids customer frustration due to unavailability.\n",
    "\n",
    "**Approach**:\n",
    "- Classification or regression models\n",
    "- Features: historical demand trends, time of day, day of week, and station flow patterns\n",
    "\n",
    "---\n",
    "\n",
    "### 5. Station Rebalancing Optimization\n",
    "\n",
    "**Goal**: Recommend how many bikes to move between stations to maintain service levels.\n",
    "\n",
    "**Value**: Reduces stockouts and overflow, ensuring user satisfaction and operational efficiency.\n",
    "\n",
    "**Approach**:\n",
    "- Predict demand at source/sink stations\n",
    "- Use optimization (e.g., Linear Programming) or Reinforcement Learning to route rebalancing trucks\n",
    "\n",
    "---\n",
    "\n",
    "These applications transform historical rental data into predictive, prescriptive, and diagnostic intelligence to support a smarter, scalable, and user-friendly bike rental service.\n",
    "\n",
    "---\n"
   ]
  },
  {
   "cell_type": "markdown",
   "metadata": {},
   "source": [
    "## Forecasting Daily Bike Demand\n",
    "\n",
    "To demonstrate how data science can support **operational planning and rebalancing**, we prototype a simple **time series model** to forecast **daily bike rentals**.\n",
    "\n",
    "We use the `darts` library to apply two out-of-the-box forecasting models:\n",
    "\n",
    "- **Exponential Smoothing** — a baseline method suitable for trend and seasonality\n",
    "- **ARIMA** — a statistical model for time series with autocorrelation\n",
    "\n",
    "These models are used *without hyperparameter tuning* or external regressors (like weather, holidays, or station-level splits), and are intended only as a first-pass demonstration."
   ]
  },
  {
   "cell_type": "code",
   "execution_count": 20,
   "metadata": {},
   "outputs": [
    {
     "name": "stderr",
     "output_type": "stream",
     "text": [
      "c:\\Users\\premd\\Documents\\Cyclic Analysis\\.venv\\Lib\\site-packages\\fs\\__init__.py:4: UserWarning: pkg_resources is deprecated as an API. See https://setuptools.pypa.io/en/latest/pkg_resources.html. The pkg_resources package is slated for removal as early as 2025-11-30. Refrain from using this package or pin to Setuptools<81.\n",
      "  __import__(\"pkg_resources\").declare_namespace(__name__)  # type: ignore\n",
      "c:\\Users\\premd\\Documents\\Cyclic Analysis\\.venv\\Lib\\site-packages\\tqdm\\auto.py:21: TqdmWarning: IProgress not found. Please update jupyter and ipywidgets. See https://ipywidgets.readthedocs.io/en/stable/user_install.html\n",
      "  from .autonotebook import tqdm as notebook_tqdm\n",
      "c:\\Users\\premd\\Documents\\Cyclic Analysis\\.venv\\Lib\\site-packages\\statsmodels\\tsa\\holtwinters\\model.py:918: ConvergenceWarning: Optimization failed to converge. Check mle_retvals.\n",
      "  warnings.warn(\n"
     ]
    },
    {
     "data": {
      "image/png": "[encoded data removed]",
      "text/plain": [
       "<Figure size 1000x600 with 1 Axes>"
      ]
     },
     "metadata": {},
     "output_type": "display_data"
    }
   ],
   "source": [
    "from darts import TimeSeries\n",
    "from darts.models import ExponentialSmoothing, ARIMA\n",
    "from darts.metrics import mape\n",
    "\n",
    "daily_counts = df.groupby(df[\"Start Date\"].dt.date).size().reset_index(name=\"num_rentals\")\n",
    "daily_counts[\"Start Date\"] = pd.to_datetime(daily_counts[\"Start Date\"])\n",
    "\n",
    "series = TimeSeries.from_dataframe(daily_counts, time_col=\"Start Date\", value_cols=\"num_rentals\")\n",
    "\n",
    "train, val = series.split_before(0.8)\n",
    "\n",
    "models = {\n",
    "    \"Exponential Smoothing\": ExponentialSmoothing(),\n",
    "    \"ARIMA\": ARIMA()\n",
    "}\n",
    "\n",
    "plt.figure(figsize=(10, 6))\n",
    "series.plot(label=\"Actual\")\n",
    "\n",
    "for name, model in models.items():\n",
    "    model.fit(train)\n",
    "    pred = model.predict(len(val))\n",
    "    error = mape(val, pred)\n",
    "    pred.plot(label=f\"{name} (MAPE: {error:.2f}%)\")\n",
    "\n",
    "plt.title(\"Daily Bike Rentals Forecast — Model Comparison\")\n",
    "plt.xlabel(\"Date\")\n",
    "plt.ylabel(\"Number of Rentals\")\n",
    "plt.legend()\n",
    "plt.tight_layout()\n",
    "plt.show()"
   ]
  }
 ],
 "metadata": {
  "kernelspec": {
   "display_name": ".venv",
   "language": "python",
   "name": "python3"
  },
  "language_info": {
   "codemirror_mode": {
    "name": "ipython",
    "version": 3
   },
   "file_extension": ".py",
   "mimetype": "text/x-python",
   "name": "python",
   "nbconvert_exporter": "python",
   "pygments_lexer": "ipython3",
   "version": "3.13.3"
  }
 },
 "nbformat": 4,
 "nbformat_minor": 2
}
